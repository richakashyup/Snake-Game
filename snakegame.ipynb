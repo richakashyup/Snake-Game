{
 "cells": [
  {
   "cell_type": "markdown",
   "metadata": {},
   "source": [
    "Create Snake Game in Python"
   ]
  },
  {
   "cell_type": "markdown",
   "metadata": {},
   "source": [
    "Snake Game\n",
    "It’s the most famous game we used to play in our childhood before the advent of smartphones. This is a project in which the snake will eat the food when its mouth touches the food. Furthermore, the length of the snake will keep on increasing after eating the food and if the snake touches the screen or itself the game will be over."
   ]
  },
  {
   "cell_type": "markdown",
   "metadata": {},
   "source": [
    "Objective\n",
    "The objective of this project is to implement the snake game using Python. It requires a specific module pygame to start building the game. You also need to import pygame and random modules. Knowledge of Python functions and loops is required."
   ]
  },
  {
   "cell_type": "markdown",
   "metadata": {},
   "source": [
    "1. Installing Pygame:\n",
    "Before starting the project you need to install Pygame on your system. It’s a set of modules in Python, which are designed to write code for video games. To install it on your system, write the given command on your command prompt. \n",
    "\n",
    "pip install pygame"
   ]
  },
  {
   "cell_type": "markdown",
   "metadata": {},
   "source": [
    "2. Importing random and Pygame:"
   ]
  },
  {
   "cell_type": "code",
   "execution_count": 1,
   "metadata": {},
   "outputs": [
    {
     "name": "stdout",
     "output_type": "stream",
     "text": [
      "pygame 2.5.2 (SDL 2.28.3, Python 3.12.2)\n",
      "Hello from the pygame community. https://www.pygame.org/contribute.html\n"
     ]
    }
   ],
   "source": [
    "import pygame\n",
    "import random"
   ]
  },
  {
   "cell_type": "markdown",
   "metadata": {},
   "source": [
    "Code Explanation:\n",
    "\n",
    "Import pygame: It is used to import a set of python modules designed to write video games.\n",
    "Import random: It imports the module which generates pseudo-random variables."
   ]
  },
  {
   "cell_type": "markdown",
   "metadata": {},
   "source": [
    "3. Creating the snake game window:"
   ]
  },
  {
   "cell_type": "code",
   "execution_count": 2,
   "metadata": {},
   "outputs": [],
   "source": [
    "x = pygame.init()\n",
    "width_of_screen = 900\n",
    "height_of_screen = 600\n",
    "gameWindow = pygame.display.set_mode((width_of_screen,height_of_screen))\n",
    "pygame.display.set_caption(\"python snake game PythonGeeks\")\n",
    "pygame.display.update()\n",
    "clock = pygame.time.Clock()"
   ]
  },
  {
   "cell_type": "markdown",
   "metadata": {},
   "source": [
    "Code Explanation:\n",
    "\n",
    "We define the variables width_of _screen and height_of_screen to store the width and height of the screen of the game screen\n",
    "\n",
    "    pygame.init(): It initializes all the imported modules of pygame for snake game.\n",
    "    pygame.display.set_mode(): It helps to set up the screen for display.\n",
    "    pygame.display.set_caption(): It displays the caption on the top of your screen.\n",
    "    pygame.display.update(): It is used to update the display of the screen."
   ]
  },
  {
   "cell_type": "markdown",
   "metadata": {},
   "source": [
    "4. Displaying snake game score on the screen:"
   ]
  },
  {
   "cell_type": "code",
   "execution_count": 3,
   "metadata": {},
   "outputs": [],
   "source": [
    "def score_on_screen(text,color,x,y):\n",
    "    screen_text = font.render(text, True , color)\n",
    "    gameWindow.blit(screen_text,[x,y])"
   ]
  },
  {
   "cell_type": "markdown",
   "metadata": {},
   "source": [
    "Code Explanation:\n",
    "\n",
    "This function is defined to display snake game scores on the screen. font.render() takes the text and color of the text and stores it in a variable. blit() function takes this variable and the coordinates of x and y to display it on the screen. This function will be used later in the game to display the score."
   ]
  },
  {
   "cell_type": "markdown",
   "metadata": {},
   "source": [
    "5. To make the welcome screen:"
   ]
  },
  {
   "cell_type": "code",
   "execution_count": 4,
   "metadata": {},
   "outputs": [],
   "source": [
    "def welcome():\n",
    "    game_exit = False\n",
    "    while not game_exit:\n",
    "        gameWindow.fill((255,182,193))\n",
    "        score_on_screen(\"Welcome to snakes game by PythonGeeks\",black,90,250)\n",
    "        score_on_screen(\"Press spacebar to play\",black,232,290)\n",
    "        for event in pygame.event.get():\n",
    "            if event.type==pygame.QUIT:\n",
    "                game_exit = True\n",
    "            if event.type==pygame.KEYDOWN:\n",
    "                if event.key==pygame.K_SPACE:\n",
    "                    game()\n",
    "        pygame.display.update()\n",
    "        clock.tick(60)"
   ]
  },
  {
   "cell_type": "markdown",
   "metadata": {},
   "source": [
    "Code Explanation:\n",
    "\n",
    "This function is defined to display a welcome screen before the start of the snake game.\n",
    "\n",
    "    fill(): This function takes the RGB values of color as argument and fills the whole screen with that color.\n",
    "    score_on_screen() : This function will display the text on screen.\n",
    "    pygame.event.get(): It returns the list of all events that are unprocessed.\n",
    "    pygame.QUIT(): It checks whether we are in the game or not.\n",
    "    pygame.KEYDOWN(): It checks whether a key is pressed or not.\n",
    "    pygame.K_SPACE(): After clicking the space key, the python snake game will start."
   ]
  },
  {
   "cell_type": "markdown",
   "metadata": {},
   "source": [
    "6. Defining the variables that will be used in the program:"
   ]
  },
  {
   "cell_type": "code",
   "execution_count": 16,
   "metadata": {},
   "outputs": [
    {
     "ename": "",
     "evalue": "",
     "output_type": "error",
     "traceback": [
      "\u001b[1;31mThe Kernel crashed while executing code in the current cell or a previous cell. \n",
      "\u001b[1;31mPlease review the code in the cell(s) to identify a possible cause of the failure. \n",
      "\u001b[1;31mClick <a href='https://aka.ms/vscodeJupyterKernelCrash'>here</a> for more info. \n",
      "\u001b[1;31mView Jupyter <a href='command:jupyter.viewOutput'>log</a> for further details."
     ]
    }
   ],
   "source": [
    "def game():\n",
    "    game_exit= False\n",
    "    game_over= False\n",
    "    snake_x=45\n",
    "    snake_y=55\n",
    "    velocity_x= 0\n",
    "    velocity_y= 0\n",
    "    init_velocity = 5\n",
    "    score= 0\n",
    "    apple_x = random.randint(20,width_of_screen/2)\n",
    "    apple_y = random.randint(20,height_of_screen/2)\n",
    "    snake_size=30\n",
    "    snake_list = []\n",
    "    snake_length = 1\n",
    "    fps=40"
   ]
  },
  {
   "cell_type": "markdown",
   "metadata": {},
   "source": [
    "Code Explanation:\n",
    "\n",
    "We define a game function in which various variables are initialized :\n",
    "\n",
    "    game_exit: It is initialized to False. Once the variable is True, we will exit from the game.\n",
    "    game_over: It is also initialized to False. Once the variable is assigned True the python sanke game will be over.\n",
    "    snake_x and snake_y: It is the coordinates of the snake in x and y direction.\n",
    "    velocity_x and velocity_y: It is the velocity of the snake in x and y direction which will be changed later in the game.\n",
    "    init_velocity: It is the velocity of the snake in the snake game.\n",
    "    apple_x and apple_y: It is the position of food in x and y coordinate.\n",
    "    snake_size: It is the size of the snake\n",
    "    snake_list and snake_length: They will be used further in this function.\n",
    "    fps: It is the number of pictures a program can draw in a second."
   ]
  },
  {
   "cell_type": "markdown",
   "metadata": {},
   "source": [
    "7. If the snake game is over:"
   ]
  },
  {
   "cell_type": "code",
   "execution_count": null,
   "metadata": {},
   "outputs": [],
   "source": [
    "with open(\"highscore.txt\", \"r\") as f:\n",
    "        highscore = f.read()\n",
    "\n",
    "while not game_exit:\n",
    "    if game_over:\n",
    "        with open(\"highscore.txt\", \"w\") as f:\n",
    "            f.write(str(highscore))\n",
    "        gameWindow.fill((255, 255, 255))  # Assuming white background\n",
    "        score_on_screen(\"Game Over! Press Enter to continue\", (255, 0, 0), 100, 250)  # Red text\n",
    "        for event in pygame.event.get():\n",
    "            if event.type == pygame.QUIT:\n",
    "                game_exit = True\n",
    "            if event.type == pygame.KEYDOWN:\n",
    "                if event.key == pygame.K_RETURN:\n",
    "                    welcome()  # Assuming welcome() is defined somewhere\n"
   ]
  },
  {
   "cell_type": "markdown",
   "metadata": {},
   "source": [
    "Code Explanation:\n",
    "\n",
    "Highscore.txt file is created and high score of python snake game is stored in this file. The file is opened with the use of open() in read mode and the high score is read. If the game is over the high score will be written in that file with the use of f.write().\n",
    "\n",
    "    pygame.K_RETURN: After clicking on enter key, the welcome screen will be displayed."
   ]
  },
  {
   "cell_type": "markdown",
   "metadata": {},
   "source": [
    "8. To play the snake game with the help of arrow keys:"
   ]
  },
  {
   "cell_type": "code",
   "execution_count": null,
   "metadata": {},
   "outputs": [],
   "source": [
    "else:\n",
    "            for event in pygame.event.get():\n",
    "                if event.type == pygame.QUIT:\n",
    "                    game_exit = True\n",
    "                if event.type==pygame.KEYDOWN:\n",
    "                    if event.key == pygame.K_RIGHT:\n",
    "                        velocity_x =  init_velocity\n",
    "                        velocity_y = 0\n",
    "                    if event.key == pygame.K_LEFT:\n",
    "                        velocity_x = -init_velocity\n",
    "                        velocity_y = 0\n",
    "                    if event.key == pygame.K_UP:\n",
    "                        velocity_y = -init_velocity\n",
    "                        velocity_x = 0\n",
    "                    if event.key == pygame.K_DOWN:\n",
    "                        velocity_y =  init_velocity\n",
    "                        velocity_x = 0\n",
    "            snake_x+=velocity_x\n",
    "            snake_y+=velocity_y"
   ]
  },
  {
   "cell_type": "markdown",
   "metadata": {},
   "source": [
    "Code Explanation:\n",
    "\n",
    "    pygame.K_RIGHT: After clicking the right arrow key the velocity in x direction is set to init_velocity and y to 0 so that snake only moves in x direction.\n",
    "    pygame.K_LEFT: After clicking the left arrow key the velocity in x direction is set in negative, so that snake moves only in the left direction. Velocity in y direction is set to 0 so that it doesn’t move diagonally.\n",
    "    pygame.K_UP: After clicking the up arrow key the velocity is set only in y direction so that the snake only moves in y axis in upward direction.\n",
    "    pygame.K_DOWN: After clicking the down arrow key the velocity is set in y direction so that it only moves in y axis in downward direction and not diagonally."
   ]
  },
  {
   "cell_type": "markdown",
   "metadata": {},
   "source": [
    "9. Eating the food and displaying score:"
   ]
  },
  {
   "cell_type": "code",
   "execution_count": null,
   "metadata": {},
   "outputs": [],
   "source": [
    "if abs(snake_x - apple_x)<20 and abs(snake_y - apple_y)<20:\n",
    "                score+=10\n",
    "                apple_x = random.randint(20,width_of_screen/2)\n",
    "                apple_y = random.randint(20,height_of_screen/2)\n",
    "                snake_length+=5\n",
    "                if score>int(highscore):\n",
    "                    highscore = score\n",
    "            gameWindow.fill(white)\n",
    "            score_on_screen(\"Score: \"+str(score) + \" highscore: \"+str(highscore),red,5,5)\n",
    "            pygame.draw.rect(gameWindow,red,[apple_x,apple_y,snake_size,snake_size])"
   ]
  },
  {
   "cell_type": "markdown",
   "metadata": {},
   "source": [
    "Code Explanation:\n",
    "\n",
    "abs(snake_x-apple_x)<20 and abs(snake_y-apple_y): If the snake comes in this proximity it will eat the food.\n",
    "score_on_screen(): This will display the highest score of python snake game on the screen."
   ]
  },
  {
   "cell_type": "markdown",
   "metadata": {},
   "source": [
    "10. Increasing the length of snake:"
   ]
  },
  {
   "cell_type": "code",
   "execution_count": null,
   "metadata": {},
   "outputs": [],
   "source": [
    "head=[]\n",
    "            head.append(snake_x)\n",
    "            head.append(snake_y)\n",
    "            snake_list.append(head)\n",
    "            if len(snake_list)>snake_length:\n",
    "                del snake_list[0]"
   ]
  },
  {
   "cell_type": "markdown",
   "metadata": {},
   "source": [
    "Code Explanation:\n",
    "\n",
    "    Head: An empty list is initialized and the x,y coordinates are appended in the list.\n",
    "    snake_list: Head is appended in this list.\n",
    "If the length of the snake_list is greater than the length of the snake we will delete the first element of snake_list, so that the length does not increase after every coordinate. It only increases if the snake eats the food."
   ]
  },
  {
   "cell_type": "markdown",
   "metadata": {},
   "source": [
    "11. If the snake collides with itself or the wall:"
   ]
  },
  {
   "cell_type": "code",
   "execution_count": null,
   "metadata": {},
   "outputs": [],
   "source": [
    "if head in snake_list[:-1]:\n",
    "                game_over=True\n",
    "if snake_x<0 or snake_x>width_of_screen or snake_y<0 or snake_y>height_of_screen:\n",
    "                game_over = True"
   ]
  },
  {
   "cell_type": "markdown",
   "metadata": {},
   "source": [
    "Code Explanation:\n",
    "\n",
    "Snake_list contains all the coordinates of the snake that it has traveled and the head contains the coordinate of the current position of the snake’s head. If the head of the snake is in the remaining snake_list excluding the first element, it will collide with itself.\n",
    "\n",
    "If the coordinates of the snake in x direction or coordinates in y direction is negative the snake will collide with the wall. Furthermore, if the coordinates of the snake in x direction is greater than the width of the screen or the coordinates of the snake in y direction is greater than the height of the screen in python snake game, the snake will collide with the wall."
   ]
  },
  {
   "cell_type": "markdown",
   "metadata": {},
   "source": [
    "12. Plotting the snake:"
   ]
  },
  {
   "cell_type": "code",
   "execution_count": null,
   "metadata": {},
   "outputs": [],
   "source": [
    "def plot_snake(gameWindow, color ,snake_list,snake_size):\n",
    "    for x,y in snake_list:\n",
    "        pygame.draw.rect(gameWindow,color,[x,y,snake_size,snake_size])"
   ]
  },
  {
   "cell_type": "markdown",
   "metadata": {},
   "source": [
    "Code Explanation:\n",
    "\n",
    "This function is defined to plot the snake in the snake game."
   ]
  },
  {
   "cell_type": "markdown",
   "metadata": {},
   "source": [
    "13. Remaining code:"
   ]
  },
  {
   "cell_type": "code",
   "execution_count": null,
   "metadata": {},
   "outputs": [],
   "source": [
    "plot_snake(gameWindow,black,snake_list,snake_size)\n",
    "            pygame.draw.rect(gameWindow,black,[snake_x,snake_y,snake_size,snake_size])\n",
    "        pygame.display.update() \n",
    "        clock.tick(fps)\n",
    "    pygame.quit()\n",
    "    quit()\n",
    "welcome()"
   ]
  },
  {
   "cell_type": "markdown",
   "metadata": {},
   "source": [
    "Summary\n",
    "We have successfully developed a snake game in python. We have used pygame to create snake game. We have created various functions to play the game."
   ]
  }
 ],
 "metadata": {
  "kernelspec": {
   "display_name": "Python 3",
   "language": "python",
   "name": "python3"
  },
  "language_info": {
   "codemirror_mode": {
    "name": "ipython",
    "version": 3
   },
   "file_extension": ".py",
   "mimetype": "text/x-python",
   "name": "python",
   "nbconvert_exporter": "python",
   "pygments_lexer": "ipython3",
   "version": "3.12.2"
  }
 },
 "nbformat": 4,
 "nbformat_minor": 2
}
